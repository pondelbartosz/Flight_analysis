{
 "cells": [
  {
   "cell_type": "markdown",
   "metadata": {},
   "source": [
    " # Introduction\n",
    " \n",
    "This notebook focuses on properly preparing the database for reporting purposes.\n",
    "\n",
    "Informations to visualize:\n",
    "1. Top10 airports with the biggest percentage of delayed flights\n",
    "2. Top10 routes with the biggest percentage of delayed flights (routes with > 10000 flights)\n",
    "3. 2019 vs 2020:\n",
    "    - month to month\n",
    "    - day_of_week to day_of_week\n",
    "4. Daily percentage of delayed flights"
   ]
  },
  {
   "cell_type": "markdown",
   "metadata": {},
   "source": [
    " # Preparing database\n",
    " \n",
    "In the database where the data is already stored, everything is contained within the public schema. However, as for the requirements for a new data usage area, we will create a dedicated schema - reporting. Next, we will create views that will answer the questions posed earlier.\n",
    "\n",
    "\n",
    "## Creating dedicated schema\n",
    "\n",
    "All queries used for creating reporting schema are included in 'reporting.sql' file in sql folder."
   ]
  },
  {
   "cell_type": "markdown",
   "metadata": {},
   "source": [
    "## Importing libraries"
   ]
  },
  {
   "cell_type": "code",
   "execution_count": 1,
   "metadata": {},
   "outputs": [],
   "source": [
    "from psycopg2 import connect\n",
    "from psycopg2 import sql\n",
    "import pandas as pd\n",
    "from psycopg2.extensions import ISOLATION_LEVEL_AUTOCOMMIT\n",
    "from config import database_password"
   ]
  },
  {
   "cell_type": "markdown",
   "metadata": {},
   "source": [
    " ## Connection with database"
   ]
  },
  {
   "cell_type": "code",
   "execution_count": 2,
   "metadata": {},
   "outputs": [],
   "source": [
    "username = 'postgres'\n",
    "password = database_password\n",
    "\n",
    "host = '127.0.0.1'\n",
    "database = 'airlines'\n",
    "port = '5432'"
   ]
  },
  {
   "cell_type": "code",
   "execution_count": 3,
   "metadata": {},
   "outputs": [],
   "source": [
    "con = connect(\n",
    "    user=username,\n",
    "    password=password,\n",
    "    host=host,\n",
    "    database=database\n",
    ")\n",
    "con.set_isolation_level(ISOLATION_LEVEL_AUTOCOMMIT)\n",
    "cursor = con.cursor()"
   ]
  },
  {
   "cell_type": "markdown",
   "metadata": {},
   "source": [
    " ## Loading 'reporting.sql' file and commiting queries"
   ]
  },
  {
   "cell_type": "code",
   "execution_count": 4,
   "metadata": {},
   "outputs": [],
   "source": [
    "path = '../sql/reporting.sql'\n",
    "sql_file = open(path, 'r')"
   ]
  },
  {
   "cell_type": "code",
   "execution_count": 5,
   "metadata": {},
   "outputs": [],
   "source": [
    "sql_script = sql_file.read()\n",
    "queries = sql_script.split(';')"
   ]
  },
  {
   "cell_type": "code",
   "execution_count": 6,
   "metadata": {},
   "outputs": [],
   "source": [
    "for query in queries:\n",
    "    if query.strip():\n",
    "        cursor.execute(query)"
   ]
  },
  {
   "cell_type": "code",
   "execution_count": 7,
   "metadata": {},
   "outputs": [],
   "source": [
    "con.commit()"
   ]
  },
  {
   "cell_type": "code",
   "execution_count": 12,
   "metadata": {},
   "outputs": [],
   "source": [
    "con.close()"
   ]
  }
 ],
 "metadata": {
  "kernelspec": {
   "display_name": "Python 3 (ipykernel)",
   "language": "python",
   "name": "python3"
  },
  "language_info": {
   "codemirror_mode": {
    "name": "ipython",
    "version": 3
   },
   "file_extension": ".py",
   "mimetype": "text/x-python",
   "name": "python",
   "nbconvert_exporter": "python",
   "pygments_lexer": "ipython3",
   "version": "3.11.5"
  },
  "vscode": {
   "interpreter": {
    "hash": "38d75d0df746d7f75dd34c5d1915af59cb55786647bd68b8d9064425d7680b12"
   }
  }
 },
 "nbformat": 4,
 "nbformat_minor": 2
}
