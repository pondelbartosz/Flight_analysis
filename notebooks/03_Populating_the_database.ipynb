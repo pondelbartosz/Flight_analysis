{
 "cells": [
  {
   "cell_type": "markdown",
   "metadata": {},
   "source": [
    " # Introduction\n",
    " \n",
    " The goal of the notebook is to fill our database with data."
   ]
  },
  {
   "cell_type": "code",
   "execution_count": 4,
   "metadata": {},
   "outputs": [],
   "source": [
    "from sqlalchemy import create_engine\n",
    "import pandas as pd\n",
    "from config import database_password"
   ]
  },
  {
   "cell_type": "markdown",
   "metadata": {},
   "source": [
    "## Connecting to database"
   ]
  },
  {
   "cell_type": "code",
   "execution_count": 5,
   "metadata": {},
   "outputs": [],
   "source": [
    "username = 'postgres'\n",
    "password = database_password\n",
    "\n",
    "host = '127.0.0.1'\n",
    "database = 'airlines'\n",
    "port = '5432'"
   ]
  },
  {
   "cell_type": "code",
   "execution_count": 6,
   "metadata": {},
   "outputs": [],
   "source": [
    "url = f'postgresql://{username}:{password}@{host}:{port}/{database}'\n",
    "engine = create_engine(url)"
   ]
  },
  {
   "cell_type": "markdown",
   "metadata": {},
   "source": [
    " # Loading dataframes to workbook\n",
    " \n",
    "Function `load_raw_data` with one parameter ('file_name') will load file, change column names to lowercase and return modified dataframe."
   ]
  },
  {
   "cell_type": "code",
   "execution_count": 7,
   "metadata": {},
   "outputs": [],
   "source": [
    "def load_raw_data(file_name):\n",
    "    path = f'../data/raw/{file_name}'\n",
    "    df = pd.read_csv(path, encoding='UTF-8')\n",
    "    df.columns = df.columns.str.lower()\n",
    "    return df"
   ]
  },
  {
   "cell_type": "code",
   "execution_count": 8,
   "metadata": {},
   "outputs": [],
   "source": [
    "aircraft_df = load_raw_data('aircraft.csv')\n",
    "airport_weather_df = load_raw_data('airport_weather.csv')\n",
    "flight_df = load_raw_data('flight.csv')\n",
    "airport_list_df = load_raw_data('airport_list.csv')"
   ]
  },
  {
   "cell_type": "markdown",
   "metadata": {},
   "source": [
    " # Exporting data to databse\n",
    " \n",
    "Function `export_table_to_db` with two parameters (df, table_name) reads sql table and exports it to database"
   ]
  },
  {
   "cell_type": "code",
   "execution_count": 9,
   "metadata": {},
   "outputs": [],
   "source": [
    "def export_table_to_db(df, table_name):\n",
    "    if pd.read_sql_table(table_name, con=engine).empty:\n",
    "        df.to_sql(\n",
    "            table_name,\n",
    "            con=engine,\n",
    "            if_exists='append',\n",
    "            index=False,\n",
    "        )\n",
    "        print(f'Loading data into {table_name}')\n",
    "    else:\n",
    "        print(f'Table {table_name} is not empty')"
   ]
  },
  {
   "cell_type": "code",
   "execution_count": 10,
   "metadata": {},
   "outputs": [
    {
     "name": "stdout",
     "output_type": "stream",
     "text": [
      "Table aircraft is not empty\n"
     ]
    }
   ],
   "source": [
    "export_table_to_db(aircraft_df, 'aircraft')"
   ]
  },
  {
   "cell_type": "code",
   "execution_count": 11,
   "metadata": {},
   "outputs": [
    {
     "name": "stdout",
     "output_type": "stream",
     "text": [
      "Table airport_weather is not empty\n"
     ]
    }
   ],
   "source": [
    "export_table_to_db(airport_weather_df, 'airport_weather')"
   ]
  },
  {
   "cell_type": "code",
   "execution_count": 12,
   "metadata": {},
   "outputs": [
    {
     "name": "stdout",
     "output_type": "stream",
     "text": [
      "Table flight is not empty\n"
     ]
    }
   ],
   "source": [
    "export_table_to_db(flight_df, 'flight')"
   ]
  },
  {
   "cell_type": "code",
   "execution_count": 13,
   "metadata": {},
   "outputs": [
    {
     "name": "stdout",
     "output_type": "stream",
     "text": [
      "Table airport_list is not empty\n"
     ]
    }
   ],
   "source": [
    "export_table_to_db(airport_list_df, 'airport_list')"
   ]
  }
 ],
 "metadata": {
  "kernelspec": {
   "display_name": "Python 3 (ipykernel)",
   "language": "python",
   "name": "python3"
  },
  "language_info": {
   "codemirror_mode": {
    "name": "ipython",
    "version": 3
   },
   "file_extension": ".py",
   "mimetype": "text/x-python",
   "name": "python",
   "nbconvert_exporter": "python",
   "pygments_lexer": "ipython3",
   "version": "3.11.5"
  },
  "vscode": {
   "interpreter": {
    "hash": "38d75d0df746d7f75dd34c5d1915af59cb55786647bd68b8d9064425d7680b12"
   }
  }
 },
 "nbformat": 4,
 "nbformat_minor": 2
}
